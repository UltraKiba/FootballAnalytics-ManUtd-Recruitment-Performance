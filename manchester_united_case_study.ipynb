{
 "cells": [
  {
   "cell_type": "markdown",
   "metadata": {},
   "source": [
    "# Manchester United’s Modernization Challenges: A Data-Driven Case Study\n",
    "**(Focus: Recruitment Strategy & On-Pitch Performance)**"
   ]
  },
  {
   "cell_type": "markdown",
   "metadata": {},
   "source": [
    "## 1. Introduction"
   ]
  },
  {
   "cell_type": "markdown",
   "metadata": {},
   "source": [
    "### Objective\n",
    "The primary objective of this case study is to conduct an in-depth analysis of Manchester United Football Club’s recent recruitment strategies and on-pitch performance. By leveraging publicly available data and established analytical frameworks, this study aims to identify key challenges and propose data-driven, actionable strategies for improvement. This analysis is specifically designed to showcase advanced data analytic skills, strategic thinking, and a deep understanding of the football industry, making it a relevant piece for potential employers in sports analytics and data-focused organizations."
   ]
  },
  {
   "cell_type": "markdown",
   "metadata": {},
   "source": [
    "### Context\n",
    "Manchester United, a club with a storied history and global fanbase, has faced significant challenges in maintaining its competitive edge in the post-Sir Alex Ferguson era. Despite substantial financial investment, on-pitch performances have often fallen short of expectations, leading to frequent managerial changes and scrutiny of its operational structure, particularly in player recruitment and tactical execution. The English Premier League, and European football at large, has become increasingly competitive, with rivals successfully integrating data analytics into their decision-making processes to optimize performance and gain strategic advantages. This case study explores how Manchester United can navigate these modern challenges."
   ]
  },
  {
   "cell_type": "markdown",
   "metadata": {},
   "source": [
    "### The Role of Data Analytics in Modern Football\n",
    "Data analytics has revolutionized modern football, extending far beyond simple performance metrics. Today, it encompasses sophisticated approaches to talent identification and recruitment, opposition analysis, in-game tactical adjustments, player development, injury prevention, and fan engagement. Clubs that effectively harness data are better positioned to make informed decisions, optimize resource allocation, and ultimately achieve sustainable success. This case study will demonstrate the practical application of data analytics in addressing specific issues within Manchester United, highlighting how a data-centric approach can bridge the gap between legacy and innovation."
   ]
  },
  {
   "cell_type": "markdown",
   "metadata": {},
   "source": [
    "## 2. Deep Dive: Recruitment & Squad Analysis"
   ]
  },
  {
   "cell_type": "markdown",
   "metadata": {},
   "source": [
    "### 2.1. Data-Driven vs. Legacy Signings: A Comparative Analysis\n",
    "A critical aspect of modernizing a football club lies in its ability to make astute recruitment decisions. This section contrasts signings potentially driven by robust data analysis against those that may have been influenced more by reputation, historical performance without current context, or other non-data factors (legacy signings)."
   ]
  },
  {
   "cell_type": "markdown",
   "metadata": {},
   "source": [
    "#### Methodology\n",
    "Signings will be evaluated based on a combination of factors: transfer fee, wages (where estimated), on-pitch performance metrics post-signing (e.g., G/A per 90, xG contribution, defensive actions, pass completion rates under pressure), and overall impact on team performance relative to cost. We will use data from sources like FBRef, Transfermarkt, and Opta (via publicly available aggregators) to inform this analysis. The pasted content provides initial figures for players like Antony, Højlund, Fernandes, Martínez, Onana, and Sancho, which will be expanded upon."
   ]
  },
  {
   "cell_type": "markdown",
   "metadata": {},
   "source": [
    "#### Successful Data-Backed Signings (Hypothetical Examples & Based on Provided Data)\n",
    "*   **Lisandro Martínez (2022)**: Signed for a reported £47m-£57m. The provided data indicates strong defensive metrics (4.3 tackles/90, top 5% PL defenders). Further analysis would involve comparing his pre-signing Ajax metrics (e.g., progressive passes, aerial duel success rate for his height, ball recoveries) against United’s defensive needs at the time. His ability to play out from the back and his aggressive defending style were likely key data points aligning with the manager's desired tactical setup.\n",
    "*   **André Onana (2023)**: Signed for a reported £44m. His 7.2 long passes/90 directly supported Ten Hag’s build-up play. A deeper dive would analyze his save percentage above expected (xG conceded vs. goals allowed), distribution accuracy under pressure, and frequency of defensive actions outside the penalty area, benchmarking these against other top goalkeepers and United's previous keepers."
   ]
  },
  {
   "cell_type": "markdown",
   "metadata": {},
   "source": [
    "#### Inefficient Legacy/Reputation-Based Signings (Hypothetical Examples & Based on Provided Data)\n",
    "*   **Jadon Sancho (2021)**: Signed for £73m with high wages (£350k/week). His 0.2 key passes/90 in 2023-24 (as per provided data) and low overall goal contributions represent a significant underperformance relative to his cost and Bundesliga reputation. Analysis would explore if his underlying metrics in Germany (e.g., shot quality, xA, dribble success rate in final third) were sustainable or system-dependent, and whether a data-driven approach might have flagged potential adaptation risks.\n",
    "*   **Antony (2022)**: Signed for £85m. His 0.8 dribbles completed/90 (ranked 42nd among PL wingers) and £1.4M per goal/assist are alarming. A data-focused recruitment approach might have questioned the sustainability of his Eredivisie output, analyzed his decision-making in the final third (e.g., shot selection, cross accuracy), and compared him against other, potentially better-value wingers with similar profiles using a broader dataset."
   ]
  },
  {
   "cell_type": "markdown",
   "metadata": {},
   "source": [
    "#### Mock Visualization 1: Scatter Plot - Transfer Fee vs. On-Pitch Value (Composite Metric)\n",
    "*(Placeholder for an image: A scatter plot showing player transfer fees on the X-axis and a composite on-pitch value score on the Y-axis. Players like Martínez would ideally be in a high-value, moderate-cost quadrant, while Antony might appear in a low-value, high-cost quadrant. Different colors/shapes could denote signing type or season.)*\n",
    "**Description**: This visualization would help to quickly identify outliers in recruitment – both positive and negative. The composite score could be weighted based on position-specific key performance indicators (KPIs) such as xG+xA per 90 for attackers, successful defensive actions per 90 for defenders, and pass completion rates for midfielders."
   ]
  },
  {
   "cell_type": "markdown",
   "metadata": {},
   "source": [
    "#### Python Code Snippet 1: Data Processing for Player Evaluation (Illustrative)\n",
    "This snippet demonstrates a conceptual approach to calculating a simplified cost-per-contribution metric using Pandas. In a real scenario, data would be sourced via APIs or comprehensive datasets."
   ]
  },
  {
   "cell_type": "code",
   "execution_count": null,
   "metadata": {},
   "outputs": [],
   "source": [
    "# import pandas as pd\n",
    "# \n",
    "# # Hypothetical player data (replace with actual data loading)\n",
    "# data = {\n",
    "#     'player_name': ['Antony', 'Rasmus Højlund', 'Bruno Fernandes', 'Lisandro Martínez', 'Jadon Sancho'],\n",
    "#     'transfer_fee_millions': [85, 72, 55, 57, 73],\n",
    "#     'goals_23_24': [1, 10, 10, 1, 3],  # Example data, use actuals\n",
    "#     'assists_23_24': [1, 4, 8, 0, 0], # Example data, use actuals\n",
    "#     'minutes_played_23_24': [1500, 2000, 3000, 1000, 500] # Example data\n",
    "# }\n",
    "# player_df = pd.DataFrame(data)\n",
    "# \n",
    "# # Calculate total contributions and cost per contribution\n",
    "# player_df['total_contributions'] = player_df['goals_23_24'] + player_df['assists_23_24']\n",
    "# # Avoid division by zero for players with no contributions or minutes\n",
    "# player_df['cost_per_contribution_millions'] = player_df.apply(\n",
    "#     lambda x: x['transfer_fee_millions'] / x['total_contributions'] if x['total_contributions'] > 0 else float('inf'), axis=1\n",
    "# )\n",
    "# player_df['contributions_per_90'] = player_df.apply(\n",
    "#     lambda x: (x['total_contributions'] / x['minutes_played_23_24']) * 90 if x['minutes_played_23_24'] > 0 else 0, axis=1\n",
    "# )\n",
    "# \n",
    "# print(\"Player Cost-Effectiveness Analysis (Illustrative):\")\n",
    "# print(player_df[['player_name', 'transfer_fee_millions', 'total_contributions', 'cost_per_contribution_millions', 'contributions_per_90']].sort_values(by='cost_per_contribution_millions'))\n"
   ]
  },
  {
   "cell_type": "markdown",
   "metadata": {},
   "source": [
    "### 2.2. Youth Academy Impact: A Missed Opportunity?\n",
    "A productive youth academy is a hallmark of sustainable success, providing cost-effective talent and fostering club identity. The provided data (4 academy graduates in 2023-24 squad vs. 8 in 2012-13; 12% minutes played by graduates vs. 25% for Man City) suggests a decline in reliance or output."
   ]
  },
  {
   "cell_type": "markdown",
   "metadata": {},
   "source": [
    "#### Quantitative Analysis\n",
    "A deeper analysis would involve: \n",
    "*   **Tracking Cohorts**: Analyzing the progression of academy players through age groups into the first team over the last decade.\n",
    "*   **Benchmarking**: Comparing Man Utd's academy graduate minutes, first-team appearances, and subsequent transfer values (if sold) against clubs like Ajax, Barcelona, Chelsea, and Man City.\n",
    "*   **Positional Output**: Identifying if the academy is producing talent in key areas or if there are persistent gaps that necessitate external recruitment."
   ]
  },
  {
   "cell_type": "markdown",
   "metadata": {},
   "source": [
    "#### Financial & Sporting Benefits\n",
    "Promoting academy talent offers significant financial savings on transfer fees and often lower initial wages. Sportingly, homegrown players can embody the club's culture and connect with the fanbase. A decline in this pipeline increases pressure on the recruitment budget and can lead to a less cohesive squad identity."
   ]
  },
  {
   "cell_type": "markdown",
   "metadata": {},
   "source": [
    "### 2.3. The Recruitment Process: Identifying Bottlenecks\n",
    "Effective recruitment is not just about identifying talent but also about having an efficient and data-informed process."
   ]
  },
  {
   "cell_type": "markdown",
   "metadata": {},
   "source": [
    "#### Current Structure (Hypothesized based on public information)\n",
    "Manchester United's recruitment has reportedly undergone several restructures. Key areas to analyze would be the roles of the scouting network, data analytics department, coaching staff, and executive leadership in the decision-making process. Is there a clear, unified strategy, or is it fragmented?"
   ]
  },
  {
   "cell_type": "markdown",
   "metadata": {},
   "source": [
    "#### Areas for Data Integration\n",
    "*   **Talent Identification**: Using data to scout wider, less obvious markets and identify players matching specific tactical profiles before they become widely known and expensive.\n",
    "*   **Objective Player Assessment**: Developing proprietary metrics and models to evaluate players beyond traditional scouting reports, reducing bias.\n",
    "*   **Risk Assessment**: Quantifying injury risks, adaptation likelihood to the Premier League, and psychological profiling using data.\n",
    "*   **Negotiation Support**: Using data-backed valuations to strengthen negotiation positions."
   ]
  },
  {
   "cell_type": "markdown",
   "metadata": {},
   "source": [
    "#### Benchmarking against Data-Led Clubs\n",
    "Clubs like Brighton & Hove Albion (leveraging owner Tony Bloom's analytics background), Liverpool (renowned for their data science team), and Brentford (using statistical modeling for recruitment) provide valuable case studies. Their success often stems from a clear club philosophy, alignment between data and coaching staff, and a willingness to trust data-driven insights, even if they are counter-intuitive."
   ]
  },
  {
   "cell_type": "markdown",
   "metadata": {},
   "source": [
    "## 3. Deep Dive: On-Pitch Performance Metrics\n",
    "This section will dissect Manchester United's on-pitch performance using key metrics, focusing on areas highlighted in the provided data and exploring their connection to recruitment and tactical decisions."
   ]
  },
  {
   "cell_type": "markdown",
   "metadata": {},
   "source": [
    "### 3.1. Defensive Vulnerabilities: A Statistical Breakdown\n",
    "The data points to significant defensive issues: 58 goals conceded (6th worst in PL 23-24) and a pressing efficiency (PPDA) of 9.3 (18th in PL)."
   ]
  },
  {
   "cell_type": "markdown",
   "metadata": {},
   "source": [
    "#### Key Metrics & Trend Analysis\n",
    "*   **Goals Conceded vs. Expected Goals Against (xGA)**: Is the team conceding more goals than the quality of chances faced would suggest (indicating poor goalkeeping/finishing by opponents, or exceptional finishing by opponents)? Or is the xGA itself high (indicating the team allows too many high-quality chances)? A trend analysis over seasons would show if this is a worsening problem.\n",
    "*   **Shot Conceded Analysis**: Volume of shots conceded, average xG per shot conceded, locations of shots conceded (e.g., high proportion from central areas close to goal is problematic).\n",
    "*   **Pressing Effectiveness**: Beyond PPDA, analyze pressing success rates, number of high turnovers, and where on the pitch pressures occur. A high PPDA suggests a less intense or less effective press.\n",
    "*   **Individual Defensive Errors**: Tracking errors leading to shots/goals can pinpoint individual liabilities, though this data is often proprietary or requires manual tagging."
   ]
  },
  {
   "cell_type": "markdown",
   "metadata": {},
   "source": [
    "#### Link to Recruitment/Squad Composition\n",
    "Defensive frailties can often be traced back to recruitment. For example:\n",
    "*   Lack of a dominant defensive midfielder capable of shielding the defense and breaking up play.\n",
    "*   Fullbacks who are strong offensively but vulnerable defensively, or vice-versa, creating imbalances.\n",
    "*   Central defenders lacking specific attributes (e.g., pace to play a high line, aerial dominance, ability to play out under pressure)."
   ]
  },
  {
   "cell_type": "markdown",
   "metadata": {},
   "source": [
    "#### Mock Visualization 2: Defensive Performance Dashboard Snippet\n",
    "*(Placeholder for an image: A multi-panel visual. Panel A: Line chart of xGA vs. Actual Goals Conceded per match over a season. Panel B: Bar chart comparing Man Utd's PPDA with the top 4 PL teams and league average. Panel C: A heatmap of the defensive third showing 'hotspots' where most shots are conceded from.)*\n",
    "**Description**: This dashboard would provide a quick overview of key defensive performance indicators, allowing for easy comparison and trend identification."
   ]
  },
  {
   "cell_type": "markdown",
   "metadata": {},
   "source": [
    "### 3.2. Attacking Dynamics: Unpacking the Numbers\n",
    "Attacking metrics provided (xG 55.2 - 8th; Shot Conversion 10.4% - 15th) suggest an average attack that underperforms in finishing."
   ]
  },
  {
   "cell_type": "markdown",
   "metadata": {},
   "source": [
    "#### Core Metrics & Player Contributions\n",
    "*   **xG vs. Actual Goals**: A significant underperformance of actual goals compared to xG points to poor finishing or excellent goalkeeping by opponents. Consistently underperforming xG is a major concern.\n",
    "*   **Shot Quality (xG per shot)**: Is the team creating high-quality chances or relying on low-probability shots? Compare with top attacking teams.\n",
    "*   **Creative Metrics**: Key passes per 90, Expected Assists (xA), progressive passes, successful dribbles in the final third. Are key creative players (e.g., Bruno Fernandes) overburdened? Is there enough creativity from other areas?\n",
    "*   **Player Breakdown**: Analyze individual player xG, actual goals, shot conversion rates, and creative contributions. Identify over and under-performers relative to their roles and historical output. For example, Højlund's 14 G/A in 2023-24 can be compared to his xG and xA to see if he's meeting, exceeding, or falling short of his expected output."
   ]
  },
  {
   "cell_type": "markdown",
   "metadata": {},
   "source": [
    "#### Python Code Snippet 2: Generating a Basic Shot Map (Illustrative)\n",
    "This snippet illustrates how Matplotlib could be used to plot shot locations. Actual implementation would require a pitch outline function and detailed shot data (x,y coordinates, outcome, xG value)."
   ]
  },
  {
   "cell_type": "code",
   "execution_count": null,
   "metadata": {},
   "outputs": [],
   "source": [
    "# import matplotlib.pyplot as plt\n",
    "# import pandas as pd\n",
    "# from mplsoccer import Pitch # A common library for football pitch visualizations\n",
    "# \n",
    "# # Hypothetical shot data (replace with actual data)\n",
    "# shot_data = {\n",
    "#     'x': [80, 90, 75, 95, 85], # X-coordinate of shot\n",
    "#     'y': [40, 50, 60, 45, 55], # Y-coordinate of shot\n",
    "#     'outcome': ['Goal', 'Miss', 'Save', 'Goal', 'Miss'],\n",
    "#     'xG': [0.3, 0.1, 0.05, 0.5, 0.15]\n",
    "# }\n",
    "# shots_df = pd.DataFrame(shot_data)\n",
    "# \n",
    "# # Create the pitch\n",
    "# pitch = Pitch(pitch_color='grass', line_color='white', stripe=True)\n",
    "# fig, ax = pitch.draw(figsize=(10, 7))\n",
    "# \n",
    "# # Plot shots\n",
    "# # Ensure coordinates are scaled correctly for the chosen pitch type (e.g., Opta, StatsBomb)\n",
    "# sc = pitch.scatter(shots_df.x, shots_df.y, \n",
    "#                  s=(shots_df.xG * 900) + 100,  # Size by xG\n",
    "#                  c=shots_df.xG,  # Color by xG (optional)\n",
    "#                  cmap='viridis', \n",
    "#                  edgecolors='black', \n",
    "#                  ax=ax)\n",
    "# \n",
    "# plt.title('Manchester United Shot Map (Illustrative)', color='black', size=16)\n",
    "# plt.show()\n"
   ]
  },
  {
   "cell_type": "markdown",
   "metadata": {},
   "source": [
    "### 3.3. Player Fitness and Availability: The Hidden Cost\n",
    "The provided data indicates 45 total injuries (2nd highest in PL), costing £35M in lost productivity. This is a critical area often overlooked in purely tactical analyses."
   ]
  },
  {
   "cell_type": "markdown",
   "metadata": {},
   "source": [
    "#### Data Points & Impact Analysis\n",
    "*   **Injury Tracking**: Days lost per player, injury type (muscle, ligament, impact), recurrence rates, and comparison to individual player histories and league benchmarks.\n",
    "*   **Positional Impact**: Are certain positions more affected? This could indicate issues with training load for those roles or a need for more robust players in those positions via recruitment.\n",
    "*   **Squad Depth Utilisation**: How often are key players unavailable, forcing reliance on less optimal backups? This impacts team cohesion and performance consistency.\n",
    "*   **Financial Cost**: Beyond lost wages, consider the cost of short-term replacements or the impact on achieving performance-related bonuses (club and player)."]
  },
  {
   "cell_type": "markdown",
   "metadata": {},
   "source": [
    "#### Link to Recruitment & Training\n",
    "*   **Recruitment**: Does the club's recruitment strategy adequately factor in a player's injury history and physical robustness? Are 'high-risk' players being signed?\n",
    "*   **Training & Medical Departments**: Are training methodologies, recovery protocols, and medical interventions benchmarked against best practices? Data can help identify patterns that might suggest a need for review in these areas."
   ]
  },
  {
   "cell_type": "markdown",
   "metadata": {},
   "source": [
    "#### Mock Visualization 3: Injury Impact Chart\n",
    "*(Placeholder for an image: A stacked bar chart showing minutes lost per month due to injury, with stacks representing different key players or positions. Alternatively, a timeline graphic showing player availability throughout a season, highlighting periods of significant absences.)*\n",
    "**Description**: This visual would highlight the cumulative impact of injuries on squad availability and could be used to correlate periods of high injury rates with fixture congestion or specific training blocks."
   ]
  }
 ],
 "metadata": {
  "kernelspec": {
   "display_name": "Python 3",
   "language": "python",
   "name": "python3"
  },
  "language_info": {
   "codemirror_mode": {
    "name": "ipython",
    "version": 3
   },
   "file_extension": ".py",
   "mimetype": "text/x-python",
   "name": "python",
   "nbconvert_exporter": "python",
   "pygments_lexer": "ipython3",
   "version": "3.11.0rc1"
  }
 },
 "nbformat": 4,
 "nbformat_minor": 5
}
